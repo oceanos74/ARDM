{
 "cells": [
  {
   "cell_type": "code",
   "execution_count": 1,
   "metadata": {},
   "outputs": [],
   "source": [
    "import json\n",
    "from latent_dialog.evaluators import MultiWozEvaluator"
   ]
  },
  {
   "cell_type": "code",
   "execution_count": 2,
   "metadata": {},
   "outputs": [],
   "source": [
    "with open(\"../origin_woz/data/test_dials.json\") as f:\n",
    "    test_data = json.load(f)"
   ]
  },
  {
   "cell_type": "code",
   "execution_count": 3,
   "metadata": {},
   "outputs": [
    {
     "name": "stdout",
     "output_type": "stream",
     "text": [
      "('test Corpus Matches : 75.70%\\ntest Corpus Success : 67.90%\\nTotal number of dialogues: 1000 ', 0.679, 0.757)\n"
     ]
    }
   ],
   "source": [
    "data_name = \"test\"\n",
    "evaluator = MultiWozEvaluator(data_name)\n",
    "\n",
    "evaluator.initialize()\n",
    "eval_data = {}\n",
    "\n",
    "for file_name in test_data:\n",
    "    eval_data[file_name] = test_data[file_name]['sys']\n",
    "    \n",
    "    for i, sentence in enumerate(eval_data[file_name]):\n",
    "        evaluator.add_example(sentence, sentence)\n",
    "        \n",
    "print(evaluator.evaluateModel(eval_data, mode='test'))"
   ]
  },
  {
   "cell_type": "code",
   "execution_count": 7,
   "metadata": {},
   "outputs": [],
   "source": [
    "with open(\"../yichi_data/test_data_dict.json\") as f:\n",
    "    yichi_data = json.load(f)"
   ]
  },
  {
   "cell_type": "code",
   "execution_count": 13,
   "metadata": {},
   "outputs": [],
   "source": [
    "def process_text(text, domain):\n",
    "    text = text.replace(\"[value_choice]\", \"[value_count]\")\n",
    "    text = text.replace(\"[value_people]\", \"[value_count]\")\n",
    "    text = text.replace(\"[value_starts]\", \"[value_count]\")\n",
    "    \n",
    "    text = text.replace(\"[value_car]\", '[taxi_type]')\n",
    "    text = text.replace(\"[value_leave]\", \"[value_time]\")\n",
    "    text = text.replace(\"[value_arrive]\", \"[value_time]\")\n",
    "    text = text.replace(\"[value_price]\", \"[value_pricerange]\")\n",
    "\n",
    "    text = text.replace('[value_postcode]', f'[{domain}_postcode]')\n",
    "    text = text.replace('[value_reference]', f'[{domain}_reference]')\n",
    "    text = text.replace('[value_address]', f'[{domain}_address]')\n",
    "    text = text.replace('[value_phone]', f'[{domain}_phone]')\n",
    "    text = text.replace('[value_name]', f'[{domain}_name]')\n",
    "    text = text.replace('[value_id]', f'[{domain}_id]')\n",
    "    \n",
    "    return text"
   ]
  },
  {
   "cell_type": "code",
   "execution_count": 12,
   "metadata": {},
   "outputs": [
    {
     "name": "stdout",
     "output_type": "stream",
     "text": [
      "('test Corpus Matches : 16.20%\\ntest Corpus Success : 2.50%\\nTotal number of dialogues: 1000 ', 0.025, 0.162)\n"
     ]
    }
   ],
   "source": [
    "data_name = \"test\"\n",
    "evaluator = MultiWozEvaluator(data_name)\n",
    "\n",
    "evaluator.initialize()\n",
    "eval_data = {}\n",
    "\n",
    "for file_name in yichi_data:\n",
    "    eval_data[file_name] = [process_text(item['resp'], item['turn_domain'][1:-1])  \n",
    "                                for item in yichi_data[file_name]['log']]\n",
    "    \n",
    "    for i, sentence in enumerate(eval_data[file_name]):\n",
    "        evaluator.add_example(sentence, sentence)\n",
    "        \n",
    "print(evaluator.evaluateModel(eval_data, mode='test'))"
   ]
  },
  {
   "cell_type": "code",
   "execution_count": 11,
   "metadata": {},
   "outputs": [
    {
     "data": {
      "text/plain": [
       "['i have [value_choice] trains matching your request . is there a specific day and time you would like to travel ?',\n",
       " 'there are [value_choice] trains for the day and time you request . would you like to book it now ?',\n",
       " 'there are [value_choice] trains meeting your needs with the first leaving at [value_leave] and the last 1 leaving at [value_leave] . do you want to book 1 of these ?',\n",
       " 'yes it is a [value_type] located in the [value_area] part of town what information would you like on it ?',\n",
       " 'thank you for using our system .']"
      ]
     },
     "execution_count": 11,
     "metadata": {},
     "output_type": "execute_result"
    }
   ],
   "source": [
    "yichi_data[]"
   ]
  },
  {
   "cell_type": "code",
   "execution_count": 18,
   "metadata": {},
   "outputs": [
    {
     "data": {
      "text/plain": [
       "'attraction'"
      ]
     },
     "execution_count": 18,
     "metadata": {},
     "output_type": "execute_result"
    }
   ],
   "source": [
    "yichi_data[file_name]['log'][0]['turn_domain'][1:-1]"
   ]
  },
  {
   "cell_type": "code",
   "execution_count": null,
   "metadata": {},
   "outputs": [],
   "source": []
  }
 ],
 "metadata": {
  "kernelspec": {
   "display_name": "Python 3",
   "language": "python",
   "name": "python3"
  },
  "language_info": {
   "codemirror_mode": {
    "name": "ipython",
    "version": 3
   },
   "file_extension": ".py",
   "mimetype": "text/x-python",
   "name": "python",
   "nbconvert_exporter": "python",
   "pygments_lexer": "ipython3",
   "version": "3.7.3"
  }
 },
 "nbformat": 4,
 "nbformat_minor": 2
}
