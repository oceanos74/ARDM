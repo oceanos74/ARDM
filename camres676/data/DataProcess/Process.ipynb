{
 "cells": [
  {
   "cell_type": "code",
   "execution_count": 2,
   "metadata": {},
   "outputs": [],
   "source": [
    "import json\n",
    "import numpy as np\n",
    "import torch"
   ]
  },
  {
   "cell_type": "code",
   "execution_count": 3,
   "metadata": {},
   "outputs": [],
   "source": [
    "test_data = torch.load(\"train_data.pkl\")"
   ]
  },
  {
   "cell_type": "code",
   "execution_count": 8,
   "metadata": {},
   "outputs": [
    {
     "data": {
      "text/plain": [
       "[{'dial_id': 4,\n",
       "  'turn_num': 0,\n",
       "  'user': 'I would like a moderately priced restaurant in the north part of town.',\n",
       "  'real_response': 'Golden Wok is a moderately priced restaurant in the north side of town. ',\n",
       "  'replaced_response': '<name_SLOT> is a moderately priced restaurant in the north side of town. ',\n",
       "  'degree': 3,\n",
       "  'bspan_inform': ['[inform]', 'moderate', 'north'],\n",
       "  'bspan_request': ['[request]']},\n",
       " {'dial_id': 4,\n",
       "  'turn_num': 1,\n",
       "  'user': 'What type of food does Golden Wok serve?',\n",
       "  'real_response': 'The Golden Wok serves Chinese food.  Would you like more information?',\n",
       "  'replaced_response': 'The <name_SLOT> serves <food_SLOT> food.  Would you like more information?',\n",
       "  'degree': 3,\n",
       "  'bspan_inform': ['[inform]', 'moderate', 'north'],\n",
       "  'bspan_request': ['[request]']},\n",
       " {'dial_id': 4,\n",
       "  'turn_num': 2,\n",
       "  'user': 'Yes what is the address for the business?',\n",
       "  'real_response': 'They are located at 191 Histon Road Chesterton',\n",
       "  'replaced_response': 'They are located at <address_SLOT>',\n",
       "  'degree': 3,\n",
       "  'bspan_inform': ['[inform]', 'moderate', 'north'],\n",
       "  'bspan_request': ['[request]', 'address']},\n",
       " {'dial_id': 4,\n",
       "  'turn_num': 3,\n",
       "  'user': 'Great. I have everything I need, Thank you  ',\n",
       "  'real_response': \"You're welconme\",\n",
       "  'replaced_response': \"You're welconme\",\n",
       "  'degree': 3,\n",
       "  'bspan_inform': ['[inform]', 'moderate', 'north'],\n",
       "  'bspan_request': ['[request]']}]"
      ]
     },
     "execution_count": 8,
     "metadata": {},
     "output_type": "execute_result"
    }
   ],
   "source": [
    "test_data[4]"
   ]
  },
  {
   "cell_type": "code",
   "execution_count": null,
   "metadata": {},
   "outputs": [],
   "source": []
  }
 ],
 "metadata": {
  "kernelspec": {
   "display_name": "Python 3",
   "language": "python",
   "name": "python3"
  },
  "language_info": {
   "codemirror_mode": {
    "name": "ipython",
    "version": 3
   },
   "file_extension": ".py",
   "mimetype": "text/x-python",
   "name": "python",
   "nbconvert_exporter": "python",
   "pygments_lexer": "ipython3",
   "version": "3.7.3"
  }
 },
 "nbformat": 4,
 "nbformat_minor": 2
}
