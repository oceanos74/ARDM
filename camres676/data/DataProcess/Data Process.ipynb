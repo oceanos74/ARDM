{
 "cells": [
  {
   "cell_type": "code",
   "execution_count": 1,
   "metadata": {},
   "outputs": [],
   "source": [
    "import torch\n",
    "import torch.nn as nn\n",
    "\n",
    "import numpy as np\n",
    "import regex as re"
   ]
  },
  {
   "cell_type": "code",
   "execution_count": 2,
   "metadata": {},
   "outputs": [],
   "source": [
    "# read database\n",
    "with open(\"../data/CamRest676/CamRestDB.json\", \"r\") as f:\n",
    "    raw = f.readlines()\n",
    "\n",
    "database = eval(\"\".join(raw))"
   ]
  },
  {
   "cell_type": "code",
   "execution_count": 3,
   "metadata": {},
   "outputs": [],
   "source": [
    "# read dialogue\n",
    "with open(\"../data/CamRest676/CamRest676.json\", \"r\") as f:\n",
    "    raw = f.readlines()\n",
    "    \n",
    "data = eval(\"\".join(raw))"
   ]
  },
  {
   "cell_type": "code",
   "execution_count": null,
   "metadata": {},
   "outputs": [],
   "source": []
  },
  {
   "cell_type": "code",
   "execution_count": 4,
   "metadata": {},
   "outputs": [
    {
     "data": {
      "text/plain": [
       "\"I need to find an expensive restauant that's in the south section of the city.\""
      ]
     },
     "execution_count": 4,
     "metadata": {},
     "output_type": "execute_result"
    }
   ],
   "source": [
    "data[0]['dial'][0]['usr']['transcript']"
   ]
  },
  {
   "cell_type": "markdown",
   "metadata": {},
   "source": [
    "### Special tokens:\n",
    "    \n",
    "    [sep]\n",
    "    \n",
    "    [eos]\n",
    "\n",
    "    [usr]\n",
    "    \n",
    "    [inform]\n",
    "    \n",
    "        [pricerange] : word embedding = price + range + norm\n",
    " \n",
    "        [area] : word embedding = area + norm\n",
    "\n",
    "        [food] : word embedding = food + norm\n",
    "        \n",
    "        [dontcare] :  word embedding = not + care + norm\n",
    "        \n",
    "    [request]\n",
    "    \n",
    "        [address] : word embedding = address + norm\n",
    "    \n",
    "    [sys]\n",
    "    \n",
    "        [ask_food]\n",
    "        \n",
    "        [ask_area]\n",
    "        \n",
    "        [ask_nothing]\n",
    "    \n",
    "    [DataBase]\n",
    "        []\n",
    "    \n",
    "    [task]"
   ]
  },
  {
   "cell_type": "code",
   "execution_count": 6,
   "metadata": {},
   "outputs": [
    {
     "data": {
      "text/plain": [
       "{'dial': [{'turn': 0,\n",
       "   'usr': {'transcript': \"I need to find an expensive restauant that's in the south section of the city.\",\n",
       "    'slu': [{'act': 'inform', 'slots': [['pricerange', 'expensive']]},\n",
       "     {'act': 'inform', 'slots': [['area', 'south']]}]},\n",
       "   'sys': {'sent': 'There are several restaurants in the south part of town that serve expensive food. Do you have a cuisine preference?',\n",
       "    'DA': ['food']}},\n",
       "  {'turn': 1,\n",
       "   'usr': {'transcript': \"No I don't care about the type of cuisine.\",\n",
       "    'slu': [{'act': 'inform', 'slots': [['pricerange', 'expensive']]},\n",
       "     {'act': 'inform', 'slots': [['food', 'dontcare']]},\n",
       "     {'act': 'inform', 'slots': [['area', 'south']]}]},\n",
       "   'sys': {'sent': 'Chiquito Restaurant Bar is a Mexican restaurant located in the south part of town.',\n",
       "    'DA': []}},\n",
       "  {'turn': 2,\n",
       "   'usr': {'transcript': 'What is their address?',\n",
       "    'slu': [{'act': 'request', 'slots': [['slot', 'address']]},\n",
       "     {'act': 'inform', 'slots': [['pricerange', 'expensive']]},\n",
       "     {'act': 'inform', 'slots': [['area', 'south']]},\n",
       "     {'act': 'inform', 'slots': [['food', 'dontcare']]}]},\n",
       "   'sys': {'sent': 'There address is 2G Cambridge Leisure Park Cherry Hinton Road Cherry Hinton, it there anything else I can help you with?',\n",
       "    'DA': []}},\n",
       "  {'turn': 3,\n",
       "   'usr': {'transcript': 'What is the food type they serve ?',\n",
       "    'slu': [{'act': 'request', 'slots': [['slot', 'food']]},\n",
       "     {'act': 'inform', 'slots': [['area', 'south']]},\n",
       "     {'act': 'inform', 'slots': [['food', 'dontcare']]},\n",
       "     {'act': 'inform', 'slots': [['pricerange', 'expensive']]}]},\n",
       "   'sys': {'sent': 'They serve Mexican food .', 'DA': []}},\n",
       "  {'turn': 4,\n",
       "   'usr': {'transcript': \"Nope, that's what I was looking for. Thanks a lot!\",\n",
       "    'slu': [{'act': 'inform', 'slots': [['food', 'dontcare']]},\n",
       "     {'act': 'inform', 'slots': [['pricerange', 'expensive']]},\n",
       "     {'act': 'inform', 'slots': [['area', 'south']]}]},\n",
       "   'sys': {'sent': 'Thank you very much for using the Cambridge Restaurant System.',\n",
       "    'DA': []}}],\n",
       " 'dialogue_id': 0,\n",
       " 'finished': True,\n",
       " 'goal': {'constraints': [['pricerange', 'expensive'], ['area', 'south']],\n",
       "  'request-slots': ['address'],\n",
       "  'text': 'Task 11193: You are looking for an expensive restaurant and it should be in the south part of town. Make sure you get the address of the venue.'}}"
      ]
     },
     "execution_count": 6,
     "metadata": {},
     "output_type": "execute_result"
    }
   ],
   "source": [
    "data[0]"
   ]
  },
  {
   "cell_type": "code",
   "execution_count": 52,
   "metadata": {},
   "outputs": [],
   "source": [
    "inputs = []"
   ]
  },
  {
   "cell_type": "code",
   "execution_count": 46,
   "metadata": {},
   "outputs": [],
   "source": [
    "turn =  data[0]['dial'][0]"
   ]
  },
  {
   "cell_type": "code",
   "execution_count": 54,
   "metadata": {},
   "outputs": [],
   "source": [
    "inputs.append(\"[usr]\")"
   ]
  },
  {
   "cell_type": "code",
   "execution_count": 55,
   "metadata": {},
   "outputs": [],
   "source": [
    "transcript = turn['usr']['transcript']"
   ]
  },
  {
   "cell_type": "code",
   "execution_count": 56,
   "metadata": {},
   "outputs": [],
   "source": [
    "inputs.append(transcript)"
   ]
  },
  {
   "cell_type": "code",
   "execution_count": 73,
   "metadata": {},
   "outputs": [
    {
     "data": {
      "text/plain": [
       "{'turn': 0,\n",
       " 'usr': {'transcript': \"I need to find an expensive restauant that's in the south section of the city.\",\n",
       "  'slu': [{'act': 'inform', 'slots': [['pricerange', 'expensive']]},\n",
       "   {'act': 'inform', 'slots': [['area', 'south']]}]},\n",
       " 'sys': {'sent': 'There are several restaurants in the south part of town that serve expensive food. Do you have a cuisine preference?',\n",
       "  'DA': ['food']}}"
      ]
     },
     "execution_count": 73,
     "metadata": {},
     "output_type": "execute_result"
    }
   ],
   "source": [
    "turn"
   ]
  },
  {
   "cell_type": "code",
   "execution_count": null,
   "metadata": {},
   "outputs": [],
   "source": []
  },
  {
   "cell_type": "code",
   "execution_count": null,
   "metadata": {},
   "outputs": [],
   "source": []
  },
  {
   "cell_type": "code",
   "execution_count": null,
   "metadata": {},
   "outputs": [],
   "source": []
  },
  {
   "cell_type": "code",
   "execution_count": null,
   "metadata": {},
   "outputs": [],
   "source": []
  },
  {
   "cell_type": "code",
   "execution_count": 59,
   "metadata": {},
   "outputs": [],
   "source": [
    "from pytorch_pretrained_bert import GPT2Tokenizer"
   ]
  },
  {
   "cell_type": "code",
   "execution_count": 61,
   "metadata": {},
   "outputs": [],
   "source": [
    "tokenizer = GPT2Tokenizer.from_pretrained(\"gpt2\")"
   ]
  },
  {
   "cell_type": "code",
   "execution_count": 71,
   "metadata": {},
   "outputs": [
    {
     "data": {
      "text/plain": [
       "[25631]"
      ]
     },
     "execution_count": 71,
     "metadata": {},
     "output_type": "execute_result"
    }
   ],
   "source": [
    "tokenizer.encode(\"British\")"
   ]
  },
  {
   "cell_type": "code",
   "execution_count": null,
   "metadata": {},
   "outputs": [],
   "source": []
  }
 ],
 "metadata": {
  "kernelspec": {
   "display_name": "Python 3",
   "language": "python",
   "name": "python3"
  },
  "language_info": {
   "codemirror_mode": {
    "name": "ipython",
    "version": 3
   },
   "file_extension": ".py",
   "mimetype": "text/x-python",
   "name": "python",
   "nbconvert_exporter": "python",
   "pygments_lexer": "ipython3",
   "version": "3.7.1"
  }
 },
 "nbformat": 4,
 "nbformat_minor": 2
}
